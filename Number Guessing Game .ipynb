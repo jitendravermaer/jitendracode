{
 "cells": [
  {
   "cell_type": "code",
   "execution_count": 1,
   "id": "d581c82b",
   "metadata": {},
   "outputs": [],
   "source": [
    "import random"
   ]
  },
  {
   "cell_type": "code",
   "execution_count": null,
   "id": "edfb8ee9",
   "metadata": {},
   "outputs": [],
   "source": []
  },
  {
   "cell_type": "code",
   "execution_count": 26,
   "id": "9ab5a812",
   "metadata": {},
   "outputs": [
    {
     "name": "stdout",
     "output_type": "stream",
     "text": [
      "You have 5 chances to guess number...\n",
      "Chance[1] Enter your guess : 56\n",
      "Your guessing value is outside of range !\n",
      "Chance[1] Enter your guess : 40\n",
      "Think a small number\n",
      "Chance[2] Enter your guess : 30\n",
      "Think a small number\n",
      "Chance[3] Enter your guess : 10\n",
      "Think a small number\n",
      "Chance[4] Enter your guess : 50\n",
      "Think a small number\n",
      "Chance[5] Enter your guess : 7\n",
      "You are looser !\n",
      "Computer guess was : 3\n"
     ]
    }
   ],
   "source": [
    "computer_guess = random.randint(1,50)\n",
    "\n",
    "chances = 1\n",
    "\n",
    "print('You have 5 chances to guess number...')\n",
    "\n",
    "while chances <= 5:\n",
    "    user_guess = int(input(f'Chance[{chances}] Enter your guess : '))\n",
    "    if user_guess >50 or user_guess <1:\n",
    "        print('Your guessing value is outside of range !')\n",
    "        continue\n",
    "    if computer_guess == user_guess:\n",
    "        print('You are winner ')\n",
    "        break\n",
    "    elif chances != 5:\n",
    "        if computer_guess < user_guess:\n",
    "            print('Think a small number')\n",
    "        elif computer_guess > user_guess:\n",
    "            print('Think a big number')\n",
    "        \n",
    "    chances += 1\n",
    "else:\n",
    "    print('You are looser !')\n",
    "    print('Computer guess was :',computer_guess)\n",
    "        \n",
    "    "
   ]
  },
  {
   "cell_type": "code",
   "execution_count": null,
   "id": "0532c95f",
   "metadata": {},
   "outputs": [],
   "source": []
  },
  {
   "cell_type": "code",
   "execution_count": null,
   "id": "ba570b1a",
   "metadata": {},
   "outputs": [],
   "source": []
  },
  {
   "cell_type": "code",
   "execution_count": null,
   "id": "fa8ce7f1",
   "metadata": {},
   "outputs": [],
   "source": []
  },
  {
   "cell_type": "code",
   "execution_count": null,
   "id": "288d1c12",
   "metadata": {},
   "outputs": [],
   "source": []
  },
  {
   "cell_type": "code",
   "execution_count": null,
   "id": "2576743a",
   "metadata": {},
   "outputs": [],
   "source": []
  },
  {
   "cell_type": "code",
   "execution_count": null,
   "id": "7973f784",
   "metadata": {},
   "outputs": [],
   "source": []
  },
  {
   "cell_type": "code",
   "execution_count": null,
   "id": "9922cdca",
   "metadata": {},
   "outputs": [],
   "source": []
  },
  {
   "cell_type": "code",
   "execution_count": null,
   "id": "ad1d2571",
   "metadata": {},
   "outputs": [],
   "source": []
  }
 ],
 "metadata": {
  "kernelspec": {
   "display_name": "Python 3 (ipykernel)",
   "language": "python",
   "name": "python3"
  },
  "language_info": {
   "codemirror_mode": {
    "name": "ipython",
    "version": 3
   },
   "file_extension": ".py",
   "mimetype": "text/x-python",
   "name": "python",
   "nbconvert_exporter": "python",
   "pygments_lexer": "ipython3",
   "version": "3.11.4"
  }
 },
 "nbformat": 4,
 "nbformat_minor": 5
}
