{
 "cells": [
  {
   "cell_type": "code",
   "execution_count": 13,
   "id": "79f7c9f3",
   "metadata": {},
   "outputs": [],
   "source": [
    "import pymysql as sql"
   ]
  },
  {
   "cell_type": "code",
   "execution_count": 14,
   "id": "7e5a6f77",
   "metadata": {},
   "outputs": [],
   "source": [
    "def db_connect():\n",
    "    db = sql.connect(host='localhost', user='root', password='', port=3306)\n",
    "    cur = db.cursor()\n",
    "    return db, cur"
   ]
  },
  {
   "cell_type": "code",
   "execution_count": 15,
   "id": "3ac3ecdd",
   "metadata": {},
   "outputs": [],
   "source": [
    "from getpass import getpass"
   ]
  },
  {
   "cell_type": "code",
   "execution_count": null,
   "id": "6db8bc46",
   "metadata": {},
   "outputs": [],
   "source": []
  },
  {
   "cell_type": "code",
   "execution_count": null,
   "id": "3f16a9a5",
   "metadata": {},
   "outputs": [],
   "source": []
  },
  {
   "cell_type": "code",
   "execution_count": 13,
   "id": "e27c56d1",
   "metadata": {},
   "outputs": [],
   "source": [
    "def signup():\n",
    "    user_name = input('Enter user_name : ')\n",
    "    password = getpass('Enter your password : ')\n",
    "    \n",
    "    lower = 0\n",
    "    upper = 0 \n",
    "    special = 0\n",
    "    digit = 0\n",
    "    \n",
    "    for i  in password:\n",
    "        if i.isdigit():\n",
    "            digit += 1\n",
    "        elif i.isupper():\n",
    "            upper += 1\n",
    "        elif i.islower():\n",
    "            lower += 1\n",
    "        elif not(i.isidentifier()):\n",
    "            special += 1\n",
    "            \n",
    "    if lower >= 1 and upper >= 1  and digit >= 1 and special >= 1 and len(password) >= 8:\n",
    "        print('Initial amount of 2000 is required to open an account')\n",
    "        choice = input('Enter your choice(y/n) : ').lower()\n",
    "        if choice == 'y':\n",
    "            #database\n",
    "            db, cur = db_connect()\n",
    "            balance = 2000\n",
    "            cur.execute('use bank_application')\n",
    "            cmd = f\"select acc_no from user_data order by acc_no desc limit 1\"\n",
    "            cur.execute(cmd)\n",
    "            data = cur.fetchall()\n",
    "            acc_no = data[0][0]+1\n",
    "            cmd = f\"insert into user_data values({acc_no}, '{user_name}', '{password}', {balance})\"\n",
    "            cur.execute(cmd)\n",
    "            db.commit()\n",
    "            \n",
    "            print('Account is created. Your account no. is ',acc_no)\n",
    "        else:\n",
    "            print('Initial amount is required. Thank you for giving your time.......')\n",
    "    else:\n",
    "        print('Password is  not valid !')"
   ]
  },
  {
   "cell_type": "code",
   "execution_count": null,
   "id": "978fc720",
   "metadata": {},
   "outputs": [],
   "source": []
  },
  {
   "cell_type": "code",
   "execution_count": 14,
   "id": "ac2c016b",
   "metadata": {},
   "outputs": [
    {
     "name": "stdout",
     "output_type": "stream",
     "text": [
      "Enter user_name : Krishna\n",
      "Enter your password : ········\n",
      "Initial amount of 2000 is required to open an account\n",
      "Enter your choice(y/n) : y\n",
      "Account is created. Your account no. is  1004\n"
     ]
    }
   ],
   "source": [
    "signup()"
   ]
  },
  {
   "cell_type": "code",
   "execution_count": null,
   "id": "40ca236c",
   "metadata": {},
   "outputs": [],
   "source": []
  },
  {
   "cell_type": "code",
   "execution_count": null,
   "id": "4b5b10f4",
   "metadata": {},
   "outputs": [],
   "source": []
  },
  {
   "cell_type": "code",
   "execution_count": null,
   "id": "2a51279a",
   "metadata": {},
   "outputs": [],
   "source": []
  },
  {
   "cell_type": "code",
   "execution_count": null,
   "id": "27d5868c",
   "metadata": {},
   "outputs": [],
   "source": []
  },
  {
   "cell_type": "code",
   "execution_count": null,
   "id": "634dc39d",
   "metadata": {},
   "outputs": [],
   "source": []
  },
  {
   "cell_type": "code",
   "execution_count": 61,
   "id": "9784a9c4",
   "metadata": {},
   "outputs": [],
   "source": [
    "def login():\n",
    "    acc_no = int(input('Enter account no. : '))\n",
    "    password = getpass('Enter your password : ')\n",
    "    \n",
    "    db, cur = db_connect()\n",
    "    cur.execute('use bank_application')\n",
    "    cmd = f\"select * from user_data where acc_no={acc_no}\"\n",
    "    cur.execute(cmd)\n",
    "    user_data = cur.fetchall()\n",
    "    \n",
    "    if password == user_data[0][2] :\n",
    "        print('Welcome :)')\n",
    "        \n",
    "        print('1. Credit')\n",
    "        print('2. Debit')\n",
    "        print('3. Change Password')\n",
    "        print('4. Check Balance')\n",
    "        print('5. Show Details')\n",
    "        print('6. LogOut')\n",
    "        choice1 = int(input('Press anyone choice : '))\n",
    "        \n",
    "        amount = user_data[0][3]\n",
    "        if choice1 == 1:\n",
    "            c_balance = int(input('Enter deposit amount : '))\n",
    "            cmd1 = f\"update user_data set balance= {amount + c_balance} where acc_no={acc_no}\"\n",
    "            cur.execute(cmd1)\n",
    "            db.commit()\n",
    "            print('...')\n",
    "            print('Your transaction is complate.')\n",
    "        elif choice1 == 2:\n",
    "            d_balance = int(input('Enter debit amount : '))\n",
    "            if d_balance <= user_data[0][3]:\n",
    "                print('Please wait your transaction is waiting...')\n",
    "                print('.')\n",
    "                print('..')\n",
    "                print('...')\n",
    "                print('Your transaction is complate.')\n",
    "                cmd2 = f\"update user_data set balance= {amount - d_balance} where acc_no={acc_no}\"\n",
    "                cur.execute(cmd2)\n",
    "                db.commit()\n",
    "            else:\n",
    "                print('Balance is sufficient...')\n",
    "        elif choice1 == 3:\n",
    "            cur_pass = getpass('Enter your current password : ')\n",
    "            if cur_pass == user_data[0][2]:\n",
    "                new_pass = getpass('Enter your new password : ')\n",
    "                lower1 = 0\n",
    "                upper1 = 0 \n",
    "                special1 = 0\n",
    "                digit1 = 0\n",
    "                \n",
    "                for i  in ne_pass:\n",
    "                    if i.isdigit():\n",
    "                        digit1 += 1\n",
    "                    elif i.isupper():\n",
    "                        upper1 += 1\n",
    "                    elif i.islower():\n",
    "                        lower1 += 1\n",
    "                    elif not(i.isidentifier()):\n",
    "                        special1 += 1\n",
    "                        \n",
    "                if lower1 >= 1 and upper1 >= 1  and digit1 >= 1 and special1 >= 1 and len(ne_pass) >= 8:\n",
    "                    cmd3 = f\"update user_data set password= {new_pass} where acc_no={acc_no}\"\n",
    "                    cur.execute(cmd3)\n",
    "                    db.commit()\n",
    "                    print('Your password succesfully changed :)')\n",
    "                else:\n",
    "                    print('New password is wrong :( !!!')\n",
    "            else:\n",
    "                print('Your password is wrong :(')\n",
    "        elif choice1 == 4:\n",
    "            print('Balance : ',user_data[0][3])\n",
    "        elif choice1 == 5:\n",
    "            print('User_name : ',user_data[0][1])\n",
    "            print('Account Number : ',acc_no)\n",
    "            print('Balance : ',user_data[0][3])\n",
    "        elif choice1 == 6:\n",
    "            print('Thank You :) !!')\n",
    "        else:\n",
    "            print('Invalid Choice........!!!')\n",
    "    else:\n",
    "        print('Invalid account number or password !!!')\n",
    "\n",
    "    "
   ]
  },
  {
   "cell_type": "code",
   "execution_count": 51,
   "id": "02d951e7",
   "metadata": {},
   "outputs": [
    {
     "name": "stdout",
     "output_type": "stream",
     "text": [
      "Enter account no. : 1003\n",
      "Enter your password : ········\n",
      "((1003, 'Jitendra', 'Jitendra#123', 6500.0),)\n",
      "Welcome !\n",
      "1. Credit\n",
      "2. Debit\n",
      "3. Change Password\n",
      "4. Check Balance\n",
      "5. Show Details\n",
      "6. LogOut\n",
      "Press anyone choice : 4\n",
      "6500.0\n",
      "Balance :  6500.0\n"
     ]
    }
   ],
   "source": [
    "login()"
   ]
  },
  {
   "cell_type": "code",
   "execution_count": 54,
   "id": "bfaef43f",
   "metadata": {},
   "outputs": [
    {
     "name": "stdout",
     "output_type": "stream",
     "text": [
      "Enter account no. : 1001\n",
      "Enter your password : ········\n",
      "((1001, 'Sachin', 'Sachin@001', 2000.0),)\n",
      "Welcome !\n",
      "1. Credit\n",
      "2. Debit\n",
      "3. Change Password\n",
      "4. Check Balance\n",
      "5. Show Details\n",
      "6. LogOut\n",
      "Press anyone choice : 5\n",
      "2000.0\n",
      "User_name :  Sachin\n",
      "Account Number :  1001\n",
      "Balance :  2000.0\n"
     ]
    }
   ],
   "source": [
    "login()"
   ]
  },
  {
   "cell_type": "code",
   "execution_count": 59,
   "id": "32043342",
   "metadata": {},
   "outputs": [
    {
     "name": "stdout",
     "output_type": "stream",
     "text": [
      "Enter account no. : 1002\n",
      "Enter your password : ········\n",
      "Welcome !\n",
      "1. Credit\n",
      "2. Debit\n",
      "3. Change Password\n",
      "4. Check Balance\n",
      "5. Show Details\n",
      "6. LogOut\n",
      "Press anyone choice : 4\n",
      "Balance :  2300.0\n"
     ]
    }
   ],
   "source": [
    "login()"
   ]
  },
  {
   "cell_type": "code",
   "execution_count": 60,
   "id": "bd127c71",
   "metadata": {},
   "outputs": [
    {
     "name": "stdout",
     "output_type": "stream",
     "text": [
      "Enter account no. : 1003\n",
      "Enter your password : ········\n",
      "Welcome !\n",
      "1. Credit\n",
      "2. Debit\n",
      "3. Change Password\n",
      "4. Check Balance\n",
      "5. Show Details\n",
      "6. LogOut\n",
      "Press anyone choice : 6\n",
      "Thank You !!\n"
     ]
    }
   ],
   "source": [
    "login()"
   ]
  },
  {
   "cell_type": "code",
   "execution_count": 62,
   "id": "60be328b",
   "metadata": {},
   "outputs": [
    {
     "name": "stdout",
     "output_type": "stream",
     "text": [
      "Enter account no. : 1004\n",
      "Enter your password : ········\n",
      "Welcome :)\n",
      "1. Credit\n",
      "2. Debit\n",
      "3. Change Password\n",
      "4. Check Balance\n",
      "5. Show Details\n",
      "6. LogOut\n",
      "Press anyone choice : 4\n",
      "Balance :  2000.0\n"
     ]
    }
   ],
   "source": [
    "login()"
   ]
  },
  {
   "cell_type": "code",
   "execution_count": null,
   "id": "9eae593c",
   "metadata": {},
   "outputs": [],
   "source": []
  }
 ],
 "metadata": {
  "kernelspec": {
   "display_name": "Python 3 (ipykernel)",
   "language": "python",
   "name": "python3"
  },
  "language_info": {
   "codemirror_mode": {
    "name": "ipython",
    "version": 3
   },
   "file_extension": ".py",
   "mimetype": "text/x-python",
   "name": "python",
   "nbconvert_exporter": "python",
   "pygments_lexer": "ipython3",
   "version": "3.11.4"
  }
 },
 "nbformat": 4,
 "nbformat_minor": 5
}
